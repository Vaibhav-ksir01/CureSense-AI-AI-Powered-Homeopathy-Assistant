{
  "cells": [
    {
      "cell_type": "markdown",
      "source": [
        "# QA Model using Knowledge Graph and RAG"
      ],
      "metadata": {
        "id": "KI4E0xRsPnmx"
      }
    },
    {
      "cell_type": "markdown",
      "source": [
        "### Install the requirements for this file"
      ],
      "metadata": {
        "id": "i-d1VhiQO9RC"
      }
    },
    {
      "cell_type": "code",
      "execution_count": null,
      "metadata": {
        "id": "VLxveQ3k4lD8"
      },
      "outputs": [],
      "source": [
        "pip install -r requirments.txt"
      ]
    },
    {
      "cell_type": "markdown",
      "source": [
        "Import all Neccessry Libraries"
      ],
      "metadata": {
        "id": "M5gtnvsENmFf"
      }
    },
    {
      "cell_type": "code",
      "execution_count": null,
      "metadata": {
        "id": "1E_hECKhXrpi"
      },
      "outputs": [],
      "source": [
        "import os\n",
        "from langchain_neo4j import Neo4jGraph\n",
        "from langchain_community.document_loaders import WikipediaLoader, PyPDFLoader\n",
        "from langchain.text_splitter import TokenTextSplitter\n",
        "from langchain_openai import ChatOpenAI\n",
        "from langchain_experimental.graph_transformers import LLMGraphTransformer\n",
        "from yfiles_jupyter_graphs import GraphWidget\n",
        "from neo4j import GraphDatabase\n",
        "from typing import Tuple, List, Optional\n",
        "from langchain_community.vectorstores import Neo4jVector\n",
        "from langchain_core.prompts import ChatPromptTemplate, PromptTemplate\n",
        "from langchain_openai import OpenAIEmbeddings\n",
        "from pydantic import BaseModel, Field\n",
        "from langchain_community.vectorstores.neo4j_vector import remove_lucene_chars\n",
        "from langchain.schema.output_parser import StrOutputParser\n",
        "from langchain.schema import AIMessage, HumanMessage, SystemMessage\n",
        "from langchain.chains.openai_functions import create_structured_output_runnable\n",
        "from langchain.prompts import ChatPromptTemplate, PromptTemplate\n",
        "from langchain.schema.runnable import RunnablePassthrough, RunnableLambda, RunnableBranch, RunnableParallel"
      ]
    },
    {
      "cell_type": "markdown",
      "source": [
        "\n",
        "Set Environment Variables"
      ],
      "metadata": {
        "id": "LkDCMDZwNx56"
      }
    },
    {
      "cell_type": "code",
      "execution_count": null,
      "metadata": {
        "id": "VYYWzceC48-Y"
      },
      "outputs": [],
      "source": [
        "# Load environment variables\n",
        "api_key = os.getenv('OPENAI_API_KEY')\n",
        "NEO4J_USERNAME = os.getenv('NEO4J_USERNAME')\n",
        "NEO4J_PASSWORD = os.getenv('NEO4J_PASSWORD')\n",
        "url = os.getenv('NEO4J_URI')\n",
        "NEO4J_DATABASE = os.getenv('NEO4J_DATABASE')"
      ]
    },
    {
      "cell_type": "markdown",
      "source": [
        "Connect to the Neo4j Database"
      ],
      "metadata": {
        "id": "zpH8gsUKOEHZ"
      }
    },
    {
      "cell_type": "code",
      "execution_count": null,
      "metadata": {
        "id": "79oWgxkSIBR5"
      },
      "outputs": [],
      "source": [
        "# Establish connection to Neo4j\n",
        "graph = Neo4jGraph(url=url, username=NEO4J_USERNAME, password=NEO4J_PASSWORD)"
      ]
    },
    {
      "cell_type": "markdown",
      "source": [
        "**Option1: if you want to get information from the wikipedia**"
      ],
      "metadata": {
        "id": "pnpHEdbPOM5L"
      }
    },
    {
      "cell_type": "code",
      "execution_count": null,
      "metadata": {
        "id": "oaPhqRGgNa2T"
      },
      "outputs": [],
      "source": [
        "search = input(\"Enter the topic you want to train the model on: \")\n",
        "raw_document = WikipediaLoader(query=search).load()"
      ]
    },
    {
      "cell_type": "markdown",
      "source": [
        "**Option2: if u have the data as a pdf**"
      ],
      "metadata": {
        "id": "8DDrZaKzOYxn"
      }
    },
    {
      "cell_type": "code",
      "execution_count": null,
      "metadata": {
        "id": "R07zsQD4IS92"
      },
      "outputs": [],
      "source": [
        "pdf_path = \"Constitution.pdf\" # Change with actual file path\n",
        "loader = PyPDFLoader(pdf_path)\n",
        "raw_document = loader.load()"
      ]
    },
    {
      "cell_type": "markdown",
      "source": [
        "Split the text into small chunks"
      ],
      "metadata": {
        "id": "YJwCC9OnPdF0"
      }
    },
    {
      "cell_type": "code",
      "execution_count": null,
      "metadata": {
        "id": "te2pZ1KQLZdr"
      },
      "outputs": [],
      "source": [
        "text_splitter = TokenTextSplitter(chunk_size=1024, chunk_overlap=48)\n",
        "documents = text_splitter.split_documents(raw_document)"
      ]
    },
    {
      "cell_type": "code",
      "execution_count": null,
      "metadata": {
        "id": "1DqVC9INL9ai"
      },
      "outputs": [],
      "source": [
        "# Initialize Language Model\n",
        "llm = ChatOpenAI(api_key=api_key, model_name=\"gpt-3.5-turbo\", temperature=0)"
      ]
    },
    {
      "cell_type": "markdown",
      "source": [
        "Data to Graph"
      ],
      "metadata": {
        "id": "urSjFvYL2pDc"
      }
    },
    {
      "cell_type": "code",
      "execution_count": null,
      "metadata": {
        "id": "bleiZrhSNwJd"
      },
      "outputs": [],
      "source": [
        "llm_transformer = LLMGraphTransformer(llm = llm) #Transformer that transform data to graph"
      ]
    },
    {
      "cell_type": "code",
      "execution_count": null,
      "metadata": {
        "id": "ypwZNPxnN_6M"
      },
      "outputs": [],
      "source": [
        "graph_document = llm_transformer.convert_to_graph_documents(documents)"
      ]
    },
    {
      "cell_type": "code",
      "execution_count": null,
      "metadata": {
        "id": "KH98tnz4OSPM"
      },
      "outputs": [],
      "source": [
        "graph.add_graph_documents(\n",
        "    graph_document,\n",
        "    baseEntityLabel = True,\n",
        "    include_source = True\n",
        ")"
      ]
    },
    {
      "cell_type": "markdown",
      "source": [
        "**Showing the Graph stored in the Neo4j Database**"
      ],
      "metadata": {
        "id": "doyU38qtQfBO"
      }
    },
    {
      "cell_type": "code",
      "execution_count": null,
      "metadata": {
        "id": "eG3uGC7uOo9E"
      },
      "outputs": [],
      "source": [
        "default_cypher = \"MATCH (s)-[r:!MENTIONS]->(t) RETURN s,r,t\""
      ]
    },
    {
      "cell_type": "code",
      "execution_count": null,
      "metadata": {
        "id": "LHLzLWb8O_df"
      },
      "outputs": [],
      "source": [
        "def showGraph(cypher: str=default_cypher):\n",
        "  driver = GraphDatabase.driver(\n",
        "      uri = url,\n",
        "      auth = (NEO4J_USERNAME, NEO4J_PASSWORD)\n",
        "  )\n",
        "  session = driver.session()\n",
        "  widget = GraphWidget(graph=session.run(cypher).graph())\n",
        "  widget.node_label_mapping = 'id'\n",
        "  display(widget)\n",
        "  return widget"
      ]
    },
    {
      "cell_type": "code",
      "execution_count": null,
      "metadata": {
        "collapsed": true,
        "id": "E84mQ8pIUDyL"
      },
      "outputs": [],
      "source": [
        "showGraph()"
      ]
    },
    {
      "cell_type": "markdown",
      "source": [
        "Creating Vectors indexes of the Graph"
      ],
      "metadata": {
        "id": "3pzGSByEQvrs"
      }
    },
    {
      "cell_type": "code",
      "execution_count": null,
      "metadata": {
        "id": "ZbTDDMt2ZTtt"
      },
      "outputs": [],
      "source": [
        "vector_index = Neo4jVector.from_existing_graph(\n",
        "    OpenAIEmbeddings(api_key = api_key),\n",
        "    search_type = \"hybrid\",\n",
        "    node_label = \"Document\",\n",
        "    text_node_properties = [\"text\"],\n",
        "    embedding_node_property = \"embedding\",\n",
        "    url = url,\n",
        "    username = NEO4J_USERNAME,\n",
        "    password = NEO4J_PASSWORD\n",
        ")"
      ]
    },
    {
      "cell_type": "code",
      "execution_count": null,
      "metadata": {
        "id": "gvGuxeWBaMyA"
      },
      "outputs": [],
      "source": [
        "class Entities(BaseModel):\n",
        "  \"\"\"Identifying information about entities\"\"\"\n",
        "  names: List[str] = Field(\n",
        "      ...,\n",
        "      destription = \"All entitiies that appears in the text\",\n",
        "  )"
      ]
    },
    {
      "cell_type": "markdown",
      "source": [
        "Prompt for extarcting Information"
      ],
      "metadata": {
        "id": "mV7pqLhAQ8bp"
      }
    },
    {
      "cell_type": "code",
      "execution_count": null,
      "metadata": {
        "id": "liGHXtSNa_Yc"
      },
      "outputs": [],
      "source": [
        "prompt = ChatPromptTemplate.from_messages(\n",
        "    [\n",
        "        (\n",
        "            \"system\",\n",
        "            \"You are extracting entities from the text.\",\n",
        "        ),\n",
        "        (\n",
        "            \"human\",\n",
        "            \"Use the given format to extract information from the following \"\n",
        "            \"input: {question}\",\n",
        "        ),\n",
        "    ]\n",
        ")"
      ]
    },
    {
      "cell_type": "markdown",
      "source": [
        "Create a chain to show all the relationships"
      ],
      "metadata": {
        "id": "Xajy0l0b3H-T"
      }
    },
    {
      "cell_type": "code",
      "execution_count": null,
      "metadata": {
        "id": "ntIUAscKbyT0"
      },
      "outputs": [],
      "source": [
        "entity_chain = prompt | llm.with_structured_output(Entities)"
      ]
    },
    {
      "cell_type": "code",
      "execution_count": null,
      "metadata": {
        "id": "wd5CKqEccBHo"
      },
      "outputs": [],
      "source": [
        "entity_chain.invoke({\"question\": \"Which is the largest Planet?\"})"
      ]
    },
    {
      "cell_type": "code",
      "execution_count": null,
      "metadata": {
        "id": "cGujozT1rP90"
      },
      "outputs": [],
      "source": [
        "graph.query(\"CREATE FULLTEXT INDEX entity IF NOT EXISTS FOR (e:__Entity__) ON EACH [e.id]\")"
      ]
    },
    {
      "cell_type": "markdown",
      "source": [
        "Generat the Query for the question"
      ],
      "metadata": {
        "id": "wpocM7Ab5mN3"
      }
    },
    {
      "cell_type": "code",
      "execution_count": null,
      "metadata": {
        "id": "Tuy9F8lycaer"
      },
      "outputs": [],
      "source": [
        "def generate_full_text_query(input: str) -> str:\n",
        "    \"\"\"Generates a full-text query string for Neo4j.\n",
        "\n",
        "    Args:\n",
        "        input: The input string to generate the query from.\n",
        "\n",
        "    Returns:\n",
        "        A full-text query string.\n",
        "    \"\"\"\n",
        "    full_text_query = \"\"\n",
        "    words = [el for el in remove_lucene_chars(input).split() if el]\n",
        "    if not words:\n",
        "        return \"\"\n",
        "    full_text_query = \" OR \".join([f\"{word}~2\" for word in words])\n",
        "\n",
        "    return full_text_query.strip()"
      ]
    },
    {
      "cell_type": "markdown",
      "source": [
        "Structure the Query generated to work on the Neo4j Cypher query"
      ],
      "metadata": {
        "id": "OdwNz3oc5tXJ"
      }
    },
    {
      "cell_type": "code",
      "execution_count": null,
      "metadata": {
        "id": "0OodvEf0dFfd"
      },
      "outputs": [],
      "source": [
        "def structured_retriever(question: str, max_entities = 5, max_results = 100) -> str:\n",
        "    \"\"\"Retrieves information from the graph based on entities in the question.\n",
        "\n",
        "    Args:\n",
        "        question: The user's question.\n",
        "        max_entities: Maximum number of entities to extract (default: 5).\n",
        "        max_results: Maximum number of results to return (default: 100).\n",
        "\n",
        "    Returns:\n",
        "        A formatted string containing the retrieved information.\n",
        "    \"\"\"\n",
        "\n",
        "    result = \"\"\n",
        "    try:\n",
        "        entities = entity_chain.invoke({\"question\": question})\n",
        "    except Exception as e:\n",
        "        return f\"Error extracting entities: {e}\"\n",
        "\n",
        "    for entity in entities.names[:max_entities]:\n",
        "            response = graph.query(\n",
        "                \"\"\"CALL db.index.fulltext.queryNodes('entity', $query)\n",
        "                YIELD node,score\n",
        "                WITH node ORDER BY score DESC LIMIT $entity_limit\n",
        "                CALL {\n",
        "                    WITH node\n",
        "                    MATCH (node)-[r]->(neighbor)\n",
        "                    WHERE type(r) IN ['MENTIONS', 'RELATED_TO', 'DEFINES']\n",
        "                    RETURN node.id + ' -[' + type(r) + ']-> ' + neighbor.id + ': ' + coalesce(neighbor.text, '') AS output\n",
        "                    UNION ALL\n",
        "                    WITH node\n",
        "                    MATCH (node)<-[r]-(neighbor)\n",
        "                    WHERE type(r) IN ['MENTIONS', 'RELATED_TO', 'DEFINES']\n",
        "                    RETURN neighbor.id + ' -[' + type(r) + ']-> ' + node.id + ': ' + coalesce(node.text, '') AS output\n",
        "                }\n",
        "                RETURN output LIMIT $result_limit\n",
        "                \"\"\",\n",
        "                {\"query\": generate_full_text_query(entity),\n",
        "                 \"entity_limit\": 5,\n",
        "                 \"result_limit\": max_results}\n",
        "            )\n",
        "\n",
        "            if response:\n",
        "                result += \"\\n\".join([el['output'] for el in response if el['output'] is not None]) + \"\\n\"\n",
        "            else:\n",
        "                result += f\"No results found for entity: {entity}\\n\"\n",
        "\n",
        "    return result.strip()"
      ]
    },
    {
      "cell_type": "code",
      "execution_count": null,
      "metadata": {
        "id": "TShf0K3bfP3_"
      },
      "outputs": [],
      "source": [
        "def retriever(question: str):\n",
        "  print(f\"Search query: {question}\")\n",
        "  structured_data = structured_retriever(question)\n",
        "  unstructured_data = [el.page_content for el in vector_index.similarity_search(question)]\n",
        "  final_data = f\"\"\"Structured data:\n",
        "  {structured_data}\n",
        "  unstructured data:\n",
        "  {\"#Document \".join(unstructured_data)}\n",
        "  \"\"\"\n",
        "  return final_data\n"
      ]
    },
    {
      "cell_type": "markdown",
      "source": [
        "Template to extract Standalone question"
      ],
      "metadata": {
        "id": "oic_-0HT4T66"
      }
    },
    {
      "cell_type": "code",
      "execution_count": null,
      "metadata": {
        "id": "-na6EwxVgGDJ"
      },
      "outputs": [],
      "source": [
        "_template = \"\"\"Given the following conversation and a follow up question, rephrase the follow up question to be a standalone question,\n",
        "in its own language.\n",
        "Chat History:\n",
        "{chat_history}\n",
        "Follow Up Input: {question}\n",
        "Standalone question:\"\"\""
      ]
    },
    {
      "cell_type": "code",
      "execution_count": null,
      "metadata": {
        "id": "zQZoiBk4gsw3"
      },
      "outputs": [],
      "source": [
        "CONDENSE_QUESTION_PROMPT = PromptTemplate.from_template(_template)"
      ]
    },
    {
      "cell_type": "markdown",
      "source": [
        "Create a conversation from the chat history"
      ],
      "metadata": {
        "id": "dZ8cU_Lx4jFj"
      }
    },
    {
      "cell_type": "code",
      "execution_count": null,
      "metadata": {
        "id": "u8jORuZmg-vF"
      },
      "outputs": [],
      "source": [
        "def _format_chat_history(chat_history: List[Tuple[str, str]]) -> List:\n",
        "  buffer = []\n",
        "  for human, ai in chat_history:\n",
        "    buffer.append(HumanMessage(content=human))\n",
        "    buffer.append(AIMessage(content=ai))\n",
        "  return buffer"
      ]
    },
    {
      "cell_type": "markdown",
      "source": [
        "Add chat history and question to find the relationship"
      ],
      "metadata": {
        "id": "s1CKQ-Tb4r8Q"
      }
    },
    {
      "cell_type": "code",
      "execution_count": null,
      "metadata": {
        "id": "EcjJtMmyhgaY"
      },
      "outputs": [],
      "source": [
        "_search_query = RunnableBranch(\n",
        "    (\n",
        "        RunnableLambda(lambda x: bool(x.get(\"chat_history\"))).with_config(\n",
        "            run_name = \"HasChatHistoryCheck\"\n",
        "        ),\n",
        "        RunnablePassthrough.assign(\n",
        "            chat_history = lambda x: _format_chat_history(x[\"chat_history\"])\n",
        "        )\n",
        "        | CONDENSE_QUESTION_PROMPT\n",
        "        | ChatOpenAI(api_key = api_key)\n",
        "        | StrOutputParser()\n",
        "\n",
        "    ),\n",
        "    RunnableLambda(lambda x: x[\"question\"]),\n",
        "\n",
        ")"
      ]
    },
    {
      "cell_type": "markdown",
      "source": [
        "Prompt Template to answer in Natural language"
      ],
      "metadata": {
        "id": "h-XUpXCU44z1"
      }
    },
    {
      "cell_type": "code",
      "execution_count": null,
      "metadata": {
        "id": "vwcL56EajArV"
      },
      "outputs": [],
      "source": [
        "template = \"\"\"Answer the question based only on the following context:\n",
        "{context}\n",
        "\n",
        "Question: {question}\n",
        "Use natural language and be concise.\n",
        "Answer:\"\"\""
      ]
    },
    {
      "cell_type": "code",
      "execution_count": null,
      "metadata": {
        "id": "KwNJ2L-Pjbld"
      },
      "outputs": [],
      "source": [
        "prompt = ChatPromptTemplate.from_template(template)"
      ]
    },
    {
      "cell_type": "markdown",
      "source": [
        "Chain to search through the graph to get the answer"
      ],
      "metadata": {
        "id": "DAoO_9lY5GcD"
      }
    },
    {
      "cell_type": "code",
      "execution_count": null,
      "metadata": {
        "id": "Bn1Vpz3Mjk9a"
      },
      "outputs": [],
      "source": [
        "chain = (\n",
        "    RunnableParallel(\n",
        "        {\"context\": _search_query | retriever,\n",
        "        \"question\": RunnablePassthrough()}\n",
        "    )\n",
        "    | prompt\n",
        "    | llm\n",
        "    | StrOutputParser()\n",
        ")"
      ]
    },
    {
      "cell_type": "code",
      "execution_count": null,
      "metadata": {
        "id": "82q35j7xj9-s"
      },
      "outputs": [],
      "source": [
        "while True:\n",
        "  question = input(\"Enter your Question or 'exit' to exit: \")\n",
        "  if question.lower() == \"exit\":\n",
        "    print(\"GoodBye\")\n",
        "    break\n",
        "  else:\n",
        "    print(chain.invoke({\"question\": question}))"
      ]
    }
  ],
  "metadata": {
    "colab": {
      "provenance": []
    },
    "kernelspec": {
      "display_name": "Python 3",
      "name": "python3"
    },
    "language_info": {
      "name": "python"
    }
  },
  "nbformat": 4,
  "nbformat_minor": 0
}
